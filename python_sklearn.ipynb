{
 "cells": [
  {
   "cell_type": "markdown",
   "metadata": {},
   "source": [
    "# Python and Scikit-learn Workshop 11/16/17\n",
    "### Brown Data Science  |  Brown Initiative for Computation in Brain and Mind  |  Brown Institute for Brain Science"
   ]
  },
  {
   "cell_type": "markdown",
   "metadata": {},
   "source": [
    "## Python\n",
    "\n",
    "Python is a flexible programming language with relatively simple syntax. It also has a huge suite of tools for processing and analyzing data. This workshop will guide you through the basics of the language. "
   ]
  },
  {
   "cell_type": "markdown",
   "metadata": {},
   "source": [
    "### Hello World\n",
    "You can print things with the `print` function."
   ]
  },
  {
   "cell_type": "code",
   "execution_count": null,
   "metadata": {
    "collapsed": true
   },
   "outputs": [],
   "source": [
    "print('Hello world!')"
   ]
  },
  {
   "cell_type": "markdown",
   "metadata": {},
   "source": [
    "### Libraries\n",
    "Python has a number of built-in modules and libraries that offer convenient access to useful functions. These libraries can be imported by using the built-in `import` function followed by the library name.\n",
    "\n",
    "Here is one example with the `random` library that can be used for generating random integers within some specified range."
   ]
  },
  {
   "cell_type": "code",
   "execution_count": null,
   "metadata": {
    "collapsed": true
   },
   "outputs": [],
   "source": [
    "import random\n",
    "print(random.randint(1,1000))  # prints a random integer between 1 and 1000"
   ]
  },
  {
   "cell_type": "markdown",
   "metadata": {},
   "source": [
    "### If/else \n",
    "We can use `if`, `elif` (else if), and `else` to define cases in our program."
   ]
  },
  {
   "cell_type": "code",
   "execution_count": null,
   "metadata": {
    "collapsed": true
   },
   "outputs": [],
   "source": [
    "age = 22\n",
    " \n",
    "if age < 13:\n",
    "    print('kid')\n",
    "elif age < 20:\n",
    "    print('teen')\n",
    "else:\n",
    "    print('adult')"
   ]
  },
  {
   "cell_type": "markdown",
   "metadata": {},
   "source": [
    "### Loops\n",
    "Use `for` and `while` loops to repeat the same block of code.\n",
    "\n",
    "Remember to indent when using if/else statements and loops!"
   ]
  },
  {
   "cell_type": "code",
   "execution_count": null,
   "metadata": {
    "collapsed": true
   },
   "outputs": [],
   "source": [
    "for i in range(10):\n",
    "    print(i)"
   ]
  },
  {
   "cell_type": "code",
   "execution_count": null,
   "metadata": {
    "collapsed": true
   },
   "outputs": [],
   "source": [
    "i = 0\n",
    "while i < 10:\n",
    "    print(i)\n",
    "    i += 1  # increment i"
   ]
  },
  {
   "cell_type": "markdown",
   "metadata": {},
   "source": [
    "### Strings\n",
    "Python allows for easy manipulation of strings."
   ]
  },
  {
   "cell_type": "code",
   "execution_count": null,
   "metadata": {
    "collapsed": true
   },
   "outputs": [],
   "source": [
    "mystring = 'ham and eggs'\n",
    "print(mystring[0:4])         # prints the first 5 characters of mystring\n",
    "print(mystring.find('and'))  # prints the index of the first occurance of 'and' in mystring\n",
    "print(mystring.split(' '))   # prints a list of words separated by spaces"
   ]
  },
  {
   "cell_type": "markdown",
   "metadata": {},
   "source": [
    "### Lists\n",
    "You can store any type of data in a list."
   ]
  },
  {
   "cell_type": "code",
   "execution_count": null,
   "metadata": {
    "collapsed": true
   },
   "outputs": [],
   "source": [
    "mylist = [6, 'hello', 3.14, 0]\n",
    "print(mylist)"
   ]
  },
  {
   "cell_type": "code",
   "execution_count": null,
   "metadata": {
    "collapsed": true
   },
   "outputs": [],
   "source": [
    "for item in mylist:\n",
    "    print(item)"
   ]
  },
  {
   "cell_type": "code",
   "execution_count": null,
   "metadata": {
    "collapsed": true
   },
   "outputs": [],
   "source": [
    "print(mylist[1:3])"
   ]
  },
  {
   "cell_type": "code",
   "execution_count": null,
   "metadata": {
    "collapsed": true
   },
   "outputs": [],
   "source": [
    "mylist.append('new item')\n",
    "print(mylist)"
   ]
  },
  {
   "cell_type": "markdown",
   "metadata": {},
   "source": [
    "### Dictionaries\n",
    "Dictionaries map keys to values. "
   ]
  },
  {
   "cell_type": "code",
   "execution_count": null,
   "metadata": {
    "collapsed": true
   },
   "outputs": [],
   "source": [
    "mydict = {'key': 'value'}\n",
    "mydict['key2'] = 'value2'\n",
    "mydict[5] = 6\n",
    "print(mydict)\n",
    "print(mydict['key'])"
   ]
  },
  {
   "cell_type": "code",
   "execution_count": null,
   "metadata": {
    "collapsed": true
   },
   "outputs": [],
   "source": [
    "for key in mydict:\n",
    "    print(key, mydict[key])"
   ]
  },
  {
   "cell_type": "markdown",
   "metadata": {},
   "source": [
    "### Dynamic Typing\n",
    "In Python, variables are associated with single objects and no specific data type."
   ]
  },
  {
   "cell_type": "code",
   "execution_count": null,
   "metadata": {
    "collapsed": true
   },
   "outputs": [],
   "source": [
    "var = 5\n",
    "print(var)\n",
    "print(type(var))\n",
    "\n",
    "var = 3.2\n",
    "print(var)\n",
    "print(type(var))\n",
    "\n",
    "var = 'spam'\n",
    "print(var)\n",
    "print(type(var))"
   ]
  },
  {
   "cell_type": "markdown",
   "metadata": {},
   "source": [
    "### Binding \n",
    "Notice that Python assignment binds a name to a particular object. If your goal is to make an independent clone of an object, you should use the `deepcopy` function from Python's `copy` library."
   ]
  },
  {
   "cell_type": "code",
   "execution_count": null,
   "metadata": {
    "collapsed": true
   },
   "outputs": [],
   "source": [
    "a = [1, 2]\n",
    "print(a)\n",
    "b = a\n",
    "b.append(3)\n",
    "print(a)"
   ]
  },
  {
   "cell_type": "code",
   "execution_count": null,
   "metadata": {
    "collapsed": true
   },
   "outputs": [],
   "source": [
    "from copy import deepcopy\n",
    "\n",
    "a = [1, 2]\n",
    "print(a)\n",
    "b = deepcopy(a)\n",
    "b.append(3)\n",
    "print(a)"
   ]
  },
  {
   "cell_type": "markdown",
   "metadata": {},
   "source": [
    "### Functions\n",
    "Specify functions using the `def` keyword."
   ]
  },
  {
   "cell_type": "code",
   "execution_count": null,
   "metadata": {
    "collapsed": true
   },
   "outputs": [],
   "source": [
    "def add(x, y):\n",
    "    return x+y\n",
    "\n",
    "def multiply(x, y):\n",
    "    sum = 0\n",
    "    for _ in range(y):\n",
    "        sum = add(sum, x)\n",
    "    return sum\n",
    "\n",
    "print(add(3,4))\n",
    "print(multiply(3,4))"
   ]
  },
  {
   "cell_type": "markdown",
   "metadata": {},
   "source": [
    "### Numpy\n",
    "Numpy is a useful Python library for storing and manipulatind data in arrays. "
   ]
  },
  {
   "cell_type": "code",
   "execution_count": null,
   "metadata": {
    "collapsed": true
   },
   "outputs": [],
   "source": [
    "import numpy as np\n",
    "\n",
    "array = np.zeros((3,4))\n",
    "print(array)"
   ]
  },
  {
   "cell_type": "code",
   "execution_count": null,
   "metadata": {
    "collapsed": true
   },
   "outputs": [],
   "source": [
    "nested_lists = [[1,2,3],[4,5,6]]\n",
    "array = np.array(nested_lists)\n",
    "print(array)"
   ]
  },
  {
   "cell_type": "code",
   "execution_count": null,
   "metadata": {
    "collapsed": true
   },
   "outputs": [],
   "source": [
    "print(array.shape)"
   ]
  },
  {
   "cell_type": "code",
   "execution_count": null,
   "metadata": {
    "collapsed": true
   },
   "outputs": [],
   "source": [
    "print(array.transpose())"
   ]
  },
  {
   "cell_type": "code",
   "execution_count": null,
   "metadata": {
    "collapsed": true
   },
   "outputs": [],
   "source": [
    "array2 = np.array([[2,2,2],[2,2,2]])\n",
    "print(array2)\n",
    "print(array + array2)"
   ]
  },
  {
   "cell_type": "code",
   "execution_count": null,
   "metadata": {
    "collapsed": true
   },
   "outputs": [],
   "source": [
    "# multiply element-wise\n",
    "print(array * array2)"
   ]
  },
  {
   "cell_type": "code",
   "execution_count": null,
   "metadata": {
    "collapsed": true
   },
   "outputs": [],
   "source": [
    "# matrix multiplication\n",
    "array3 = np.array([[1, -1], [0, 4], [-2, 3]])\n",
    "print(np.dot(array, array3))"
   ]
  },
  {
   "cell_type": "markdown",
   "metadata": {},
   "source": [
    "### Plotting\n",
    "There are many times where it will be useful to plot various quantities and metrics to better understand the  performance of a model.\n",
    "Here is a simple example of plotting from the standard plotting library, matplotlib.pyplot (plt)."
   ]
  },
  {
   "cell_type": "code",
   "execution_count": null,
   "metadata": {
    "collapsed": true
   },
   "outputs": [],
   "source": [
    "import matplotlib.pyplot as plt\n",
    "import numpy as np\n",
    "\n",
    "x = np.linspace(0,2*np.pi,50)\n",
    "y = np.cos(x)\n",
    "plt.plot(x,y)\n",
    "plt.title(\"my plot\")\n",
    "plt.xlabel(' x')\n",
    "plt.ylabel('Cos')\n",
    "plt.show()"
   ]
  },
  {
   "cell_type": "markdown",
   "metadata": {},
   "source": [
    "## Machine Learning\n",
    "\n",
    "Machine learning is the subfield of artificial intelligence that involves learning from data. In particular, we will be discussing *supervised* learning. \n",
    "\n",
    "Let's say we have a function we want to approximate:\n",
    "\n",
    "$$ y = f(x) $$\n",
    "\n",
    "But we don't know the formula for *f*. So what do we know about *f*? We have a set of *training examples*, which are pairs of inputs *x* and outputs *y*, where *y* is the result of applying *f* to *x*. \n",
    "\n",
    "$$(x_1,y_1),(x_2,y_2),\\ldots,(x_n,y_n)$$\n",
    "\n",
    "The outputs $y$ in our training examples are called *labels*. Based on these training examples, we want to form an approximation for *f*. The process of forming an approximation is called supervised learning. Here are the steps involved in supervised learning:\n",
    "\n",
    "**Step 1:** We form a *hypothesis* about what *f* looks like. A hypothesis is also called a *model*, and it has certain unknown *parameters*. For example, we might hypothesize that *f* looks like this:\n",
    "\n",
    "$$f(x) =w \\cdot x$$\n",
    "\n",
    "Here we are applying the dot product on vectors *w* and *x*. This model is called a *linear* model, and has unknown parameters *w*. Applying this model is called *linear regression*.\n",
    "\n",
    "**Step 2:** Find the best set of parameters that fits the training examples. In this case, we want to find the best vector *w* that fits our examples above. \n",
    "\n",
    "What do we mean when we say best set of parameters? We want parameters that minimize some *loss function*, which is a function that tells us how bad our model is based on our training data. For linear regression, the typical loss function is the mean squared error:\n",
    "\n",
    "$$ L(w) = \\frac{1}{n}\\sum_{i=1}^n (y_i - w \\cdot x_i)^2 $$\n",
    "\n",
    "By choosing the *w* that minimizes this function, we are choosing the *w* that best fits our training data. \n",
    "\n",
    "**Step 3:** Apply the approximation to unseen data (data without labels). Our model will predict what the actual label is for a given input.\n",
    "\n",
    "### Regression vs. Classification\n",
    "\n",
    "In the above scenario, we have a function that is producing real numbers as outputs. When this is the case, we are doing *regression*. However, there is a different type of supervised learning problem called *classification*.\n",
    "\n",
    "Consider the problem of predicting whether or not an email is spam, based on the text of the email. In this case, we would have inputs *x* (the full email text) and labels *y*. The label for a given example is 1 if the email is spam, and 0 if not. \n",
    "\n",
    "Here there are only two possible outputs of our funciton. This is called *binary classification*. More generally, if our function only produces a finite number of outputs (usually a small number), then we are doing *classification*. The possible outputs of the function (0 and 1 in the above example) are called *classes*.\n",
    "\n",
    "### Regression using Scikit-learn\n",
    "\n",
    "Here, we'll walk through an example of regression using scikit-learn. We'll be using the diabetes patients dataset. "
   ]
  },
  {
   "cell_type": "code",
   "execution_count": null,
   "metadata": {
    "collapsed": true
   },
   "outputs": [],
   "source": [
    "from sklearn import datasets\n",
    "\n",
    "diabetes = datasets.load_diabetes()\n",
    "print(diabetes.DESCR)"
   ]
  },
  {
   "cell_type": "code",
   "execution_count": null,
   "metadata": {
    "collapsed": true
   },
   "outputs": [],
   "source": [
    "print(diabetes.data.shape)\n",
    "print(diabetes.data[:3])  # print the first 3 inputs in the training data"
   ]
  },
  {
   "cell_type": "code",
   "execution_count": null,
   "metadata": {
    "collapsed": true
   },
   "outputs": [],
   "source": [
    "print(diabetes.target.shape)\n",
    "print(diabetes.target[:10])  # print the first 10 labels"
   ]
  },
  {
   "cell_type": "code",
   "execution_count": null,
   "metadata": {
    "collapsed": true
   },
   "outputs": [],
   "source": [
    "from sklearn import linear_model\n",
    "\n",
    "# create a model\n",
    "model = linear_model.LinearRegression()\n",
    "\n",
    "# fit the model to find the best set of parameters for our data\n",
    "model.fit(diabetes.data, diabetes.target)\n",
    "\n",
    "# see the model's prediction on unseen data\n",
    "model.predict([[ 0.03807591,  0.05068012,  0.06169621,  0.02187235, -0.0442235,  \\\n",
    "                -0.0348207, -0.04340085, -0.00259226,  0.01990842, -0.01764613]])\n",
    "\n",
    "# if you get a weird warning when you run this block, ignore it"
   ]
  },
  {
   "cell_type": "markdown",
   "metadata": {},
   "source": [
    "### Classification using Scikit-learn\n",
    "\n",
    "Here we will be using the Iris dataset."
   ]
  },
  {
   "cell_type": "code",
   "execution_count": null,
   "metadata": {
    "collapsed": true
   },
   "outputs": [],
   "source": [
    "iris = datasets.load_iris()\n",
    "print(iris.DESCR)"
   ]
  },
  {
   "cell_type": "code",
   "execution_count": null,
   "metadata": {
    "collapsed": true
   },
   "outputs": [],
   "source": [
    "print(iris.data.shape)\n",
    "print(iris.data[:5])"
   ]
  },
  {
   "cell_type": "code",
   "execution_count": null,
   "metadata": {
    "collapsed": true
   },
   "outputs": [],
   "source": [
    "print(iris.target.shape)\n",
    "print(iris.target[:10])"
   ]
  },
  {
   "cell_type": "code",
   "execution_count": null,
   "metadata": {
    "collapsed": true
   },
   "outputs": [],
   "source": [
    "from sklearn import svm\n",
    "\n",
    "# create a model\n",
    "model = svm.SVC()\n",
    "\n",
    "# fit the model to find the best set of parameters for our data\n",
    "model.fit(iris.data, iris.target)\n",
    "\n",
    "# see the model's prediction on unseen data\n",
    "model.predict([[6.2, 3, 1.2, 0.3]])"
   ]
  },
  {
   "cell_type": "markdown",
   "metadata": {},
   "source": [
    "### Train/validation split\n",
    "\n",
    "How do we evaluate how good our model is? The most simple way to do this is to split up the data into two subsets: training and validation. This means we fit our model to the training data, and we use the trained model to predict ouptuts for the validation data. We can then compare our model's predictions to the actual labels."
   ]
  },
  {
   "cell_type": "code",
   "execution_count": null,
   "metadata": {
    "collapsed": true
   },
   "outputs": [],
   "source": [
    "from sklearn import model_selection\n",
    "\n",
    "X = iris.data\n",
    "y = iris.target\n",
    "X_train, X_validate, y_train, y_validate = model_selection.train_test_split(X, y, test_size=0.33, random_state=29)\n",
    "\n",
    "print(X_train.shape, X_validate.shape, y_train.shape, y_validate.shape)"
   ]
  },
  {
   "cell_type": "code",
   "execution_count": null,
   "metadata": {
    "collapsed": true
   },
   "outputs": [],
   "source": [
    "# fit our model to the training data\n",
    "model.fit(X_train, y_train)\n",
    "\n",
    "# use our model to predict outputs for our validation data\n",
    "y_predict = model.predict(X_validate)\n",
    "\n",
    "# compare the predictions to our actual labels\n",
    "from sklearn import metrics\n",
    "print(metrics.accuracy_score(y_validate, y_predict))"
   ]
  },
  {
   "cell_type": "code",
   "execution_count": null,
   "metadata": {
    "collapsed": true
   },
   "outputs": [],
   "source": []
  }
 ],
 "metadata": {
  "kernelspec": {
   "display_name": "Python 2",
   "language": "python",
   "name": "python2"
  },
  "language_info": {
   "codemirror_mode": {
    "name": "ipython",
    "version": 2
   },
   "file_extension": ".py",
   "mimetype": "text/x-python",
   "name": "python",
   "nbconvert_exporter": "python",
   "pygments_lexer": "ipython2",
   "version": "2.7.13"
  }
 },
 "nbformat": 4,
 "nbformat_minor": 2
}
